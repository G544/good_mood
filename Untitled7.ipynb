{
  "nbformat": 4,
  "nbformat_minor": 0,
  "metadata": {
    "colab": {
      "name": "Untitled7.ipynb",
      "provenance": [],
      "mount_file_id": "1HS0V4r7RRdjAQa1QI1GaOQ8_ziJHWULt",
      "authorship_tag": "ABX9TyO2Qi/UGQftrQA4etlxOJGq",
      "include_colab_link": true
    },
    "kernelspec": {
      "name": "python3",
      "display_name": "Python 3"
    }
  },
  "cells": [
    {
      "cell_type": "markdown",
      "metadata": {
        "id": "view-in-github",
        "colab_type": "text"
      },
      "source": [
        "<a href=\"https://colab.research.google.com/github/G544/good_mood/blob/main/Untitled7.ipynb\" target=\"_parent\"><img src=\"https://colab.research.google.com/assets/colab-badge.svg\" alt=\"Open In Colab\"/></a>"
      ]
    },
    {
      "cell_type": "code",
      "metadata": {
        "id": "HVuZtMyIRfc9"
      },
      "source": [
        "import matplotlib.pyplot as plt\n",
        "import pandas as pd\n",
        "import numpy as np\n",
        "%matplotlib inline\n",
        "import seaborn as sns\n",
        "import datetime "
      ],
      "execution_count": 2,
      "outputs": []
    },
    {
      "cell_type": "code",
      "metadata": {
        "id": "kg7KhDLhRltZ"
      },
      "source": [
        "month='01'\n",
        "day_list=['01','11','21','31']\n",
        "#РАБОТАЕТ НЕ ТРОГАй\n",
        "def li_read(month, day): # считывает\n",
        "    print('li_'+str(month)+'_'+str(day))\n",
        "    globals()['li_'+str(month)+'_'+str(day)]=pd.read_csv('/content/drive/My Drive/гуд муд/line_items{month}/line_items_2020-{month}-{day}.csv'.\n",
        "                      format(month=month, day=day))\n",
        "\n",
        "\n",
        "\n",
        "def gp_price(month,day): # считает цену\n",
        "  gp= globals()['li_'+str(month)+'_'+str(day)].groupby('shipment_id')[['price']].sum()\n",
        "  pr_shp=pd.DataFrame()\n",
        "  pr_shp['shipment_id']=gp.index\n",
        "  pr_shp['price']=np.array(gp['price'])\n",
        "  return pr_shp\n",
        "  \n",
        "\n",
        "def merge_for_day(month, day,val1,val2):\n",
        "  new_df=pd.merge(val1,val2,on='shipment_id', how='outer')\n",
        "  cols=np.array(new_df.columns)\n",
        "  new_df.rename(columns={cols[-1]:'price{d}'.format(d=day)},inplace=True)\n",
        "  return new_df\n",
        "  \n",
        "  \n"
      ],
      "execution_count": 2,
      "outputs": []
    },
    {
      "cell_type": "code",
      "metadata": {
        "id": "z_z1zNquaGMU"
      },
      "source": [
        "month='01'\n",
        "day_list=['11','21','31']\n",
        "day0='01'\n",
        "# !!!! РАБОТАЕТ НЕ ТРОГАй. УБЬЮ\n",
        "def price_for_month(month, day_list, first_day): # В day_list не указывать первый день\n",
        "  day0=first_day\n",
        "  li_read(month, day0)\n",
        "  val=gp_price(month,day0)\n",
        "\n",
        "  for day in day_list:\n",
        "    li_read(month, day)\n",
        "    val_tmp=gp_price(month,day)\n",
        "    tmp_df=merge_for_day(month, day,val,val_tmp)\n",
        "    val=tmp_df\n",
        "\n",
        "\n",
        "\n",
        "  val.fillna(0, inplace=True)\n",
        "  cols = np.array(val.columns)[1:val.shape[1]]\n",
        "  table_for_month = val.eval(\"price = {}\".format(\"+\".join(cols))).drop(columns=cols)\n",
        "  return table_for_month "
      ],
      "execution_count": 3,
      "outputs": []
    },
    {
      "cell_type": "code",
      "metadata": {
        "id": "PyFY7Pgfb71k"
      },
      "source": [
        "# Пример вызова \n",
        "month='01'\n",
        "day_list=['11','21','31']\n",
        "day0='01'\n",
        "m1=price_for_month(month, day_list, day0)\n",
        "m='02'\n",
        "day0='10'\n",
        "day=['20']\n",
        "m2=price_for_month(m, day, day0)\n",
        "m='03'\n",
        "day0='01'\n",
        "day=['11','21','31']\n",
        "m3=price_for_month(m, day, day0)\n",
        "m='04'\n",
        "day0='10'\n",
        "day=['20','24','26','28','30']\n",
        "m4=price_for_month(m, day, day0)"
      ],
      "execution_count": null,
      "outputs": []
    },
    {
      "cell_type": "code",
      "metadata": {
        "id": "Z0YQ61KT4t2E"
      },
      "source": [
        "var_names=[li_01_01,li_01_11,li_01_21,li_01_31,li_02_10,li_02_20,\n",
        "           li_03_01,li_03_11,li_03_21,li_03_31,li_04_10,li_04_20,\n",
        "           li_04_24,li_04_26,li_04_28,li_04_30]\n",
        "\n",
        "del var_names"
      ],
      "execution_count": 8,
      "outputs": []
    },
    {
      "cell_type": "code",
      "metadata": {
        "id": "9dfpqtPFtY6f"
      },
      "source": [
        "m='05'\n",
        "day0='02'\n",
        "day=['04','06','08','10','12','14','16','18','20','22','24','26','28','30']\n",
        "m5=price_for_month(m, day, day0)\n",
        "m='06'\n",
        "day0='01'\n",
        "day=['03','05','07','09','11','13','15','17','19','21','23','25','27','29']\n",
        "m6=price_for_month(m, day, day0)\n",
        "m='07'\n",
        "day0='01'\n",
        "day=['03','05','07','09','11','13','15','17','19','21','23','25','27','29','31']\n",
        "m7=price_for_month(m, day, day0)\n",
        "m='08'\n",
        "day0='02'\n",
        "day=['04','06','08','10','12','14','16','18','20','22','24','26','28','30']\n",
        "m8=price_for_month(m, day, day0)"
      ],
      "execution_count": null,
      "outputs": []
    },
    {
      "cell_type": "code",
      "metadata": {
        "id": "WXtmyw_h5q-X"
      },
      "source": [
        "var_names2=[li_05_02,li_05_04,li_05_06,li_05_08,li_05_10,li_05_12,li_05_14,li_05_16,\n",
        "            li_05_18,li_05_20,li_05_22,li_05_24,li_05_26,li_05_28,li_05_30,li_06_01,\n",
        "            li_06_03,li_06_05,li_06_07,li_06_09,li_06_11,li_06_13,li_06_15,li_06_17,\n",
        "            li_06_19,li_06_21,li_06_23,li_06_25,li_06_27,li_06_29,li_07_01,li_07_03,\n",
        "            li_07_05,li_07_07,li_07_09,li_07_11,li_07_13,li_07_15,li_07_17,li_07_19,\n",
        "            li_07_21,li_07_23,li_07_25,li_07_27,li_07_29,li_07_31,li_08_02,li_08_04,\n",
        "            li_08_06,li_08_08,li_08_10,li_08_12,li_08_14,li_08_16,li_08_18,li_08_20,\n",
        "            li_08_22,li_08_24,li_08_26,li_08_28,li_08_30]\n",
        "del var_names2"
      ],
      "execution_count": 10,
      "outputs": []
    },
    {
      "cell_type": "code",
      "metadata": {
        "id": "NuLyPQcCxcOR"
      },
      "source": [
        "ship01=pd.read_csv('/content/drive/My Drive/гуд муд/shipments/shipments2020-01-01.csv')\n",
        "ship03=pd.read_csv('/content/drive/My Drive/гуд муд/shipments/shipments2020-03-01.csv')\n",
        "ship04=pd.read_csv('/content/drive/My Drive/гуд муд/shipments/shipments2020-04-30.csv')\n",
        "ship06=pd.read_csv('/content/drive/My Drive/гуд муд/shipments/shipments2020-06-29.csv')"
      ],
      "execution_count": 11,
      "outputs": []
    },
    {
      "cell_type": "code",
      "metadata": {
        "id": "z6CfrGLvyRKN"
      },
      "source": [
        "adr_ship_01=pd.DataFrame(ship01['ship_address_id'])\n",
        "adr_ship_01['shipment_id']=(ship01['shipment_id']) # Соответствие id  доставки и адресса\n",
        "adr_ship_03=pd.DataFrame(ship03['ship_address_id'])\n",
        "adr_ship_03['shipment_id']=(ship03['shipment_id']) # Соответствие id  доставки и адресса\n",
        "adr_ship_04=pd.DataFrame(ship04['ship_address_id'])\n",
        "adr_ship_04['shipment_id']=(ship04['shipment_id']) # Соответствие id  доставки и адресса\n",
        "adr_ship_06=pd.DataFrame(ship06['ship_address_id'])\n",
        "adr_ship_06['shipment_id']=(ship06['shipment_id']) # Соответствие id  доставки и адресса"
      ],
      "execution_count": 12,
      "outputs": []
    },
    {
      "cell_type": "code",
      "metadata": {
        "id": "__7z7vf-6WOo",
        "outputId": "57d0ba8a-833d-4893-ba60-4ba5f1172420",
        "colab": {
          "base_uri": "https://localhost:8080/",
          "height": 163
        }
      },
      "source": [
        "del ship01,ship03,ship04,ship04,ship06"
      ],
      "execution_count": 15,
      "outputs": [
        {
          "output_type": "error",
          "ename": "NameError",
          "evalue": "ignored",
          "traceback": [
            "\u001b[0;31m---------------------------------------------------------------------------\u001b[0m",
            "\u001b[0;31mNameError\u001b[0m                                 Traceback (most recent call last)",
            "\u001b[0;32m<ipython-input-15-2004e405bc3f>\u001b[0m in \u001b[0;36m<module>\u001b[0;34m()\u001b[0m\n\u001b[0;32m----> 1\u001b[0;31m \u001b[0;32mdel\u001b[0m \u001b[0mship01\u001b[0m\u001b[0;34m,\u001b[0m\u001b[0mship03\u001b[0m\u001b[0;34m,\u001b[0m\u001b[0mship04\u001b[0m\u001b[0;34m,\u001b[0m\u001b[0mship04\u001b[0m\u001b[0;34m,\u001b[0m\u001b[0mship06\u001b[0m\u001b[0;34m\u001b[0m\u001b[0;34m\u001b[0m\u001b[0m\n\u001b[0m",
            "\u001b[0;31mNameError\u001b[0m: name 'ship01' is not defined"
          ]
        }
      ]
    },
    {
      "cell_type": "code",
      "metadata": {
        "id": "zxWJCP7Wz6Nh"
      },
      "source": [
        "tmp1=pd.concat([adr_ship_01,adr_ship_03])\n",
        "tmp1.reset_index(inplace=True)\n",
        "tmp2=pd.concat([tmp1,adr_ship_04])\n",
        "del tmp1\n",
        "tmp2.reset_index(inplace=True)\n",
        "tmp3=pd.concat([tmp2,adr_ship_06]) # Индексы не сброшены, но хз, почему они не сбрасываются\n",
        "del tmp2\n",
        "#tmp3.reset_index(inplace=True)\n",
        "adr_book_ship=tmp3\n",
        "del tmp3"
      ],
      "execution_count": 16,
      "outputs": []
    },
    {
      "cell_type": "code",
      "metadata": {
        "id": "nFc3uNxk15OZ"
      },
      "source": [
        "#tmp1=pd.concat([m1,m2,m3,m4,m5,m6,m7,m8])"
      ],
      "execution_count": 18,
      "outputs": []
    },
    {
      "cell_type": "code",
      "metadata": {
        "id": "IqAcWT57ykVF"
      },
      "source": [
        "ship_id=pd.merge(adr_book_ship,m1, on='shipment_id', how='left')\n",
        "ship_id=pd.merge(ship_id,m2, on='shipment_id', how='left')\n",
        "cols=ship_id.columns\n",
        "ship_id.rename(columns={cols[-2]:'price{m}'.format(m=1)},inplace=True)\n",
        "ship_id.rename(columns={cols[-1]:'price{m}'.format(m=2)}, inplace=True)\n",
        "del cols\n",
        "ship_id=pd.merge(ship_id,m3, on='shipment_id', how='left')\n",
        "cols=ship_id.columns\n",
        "ship_id.rename(columns={cols[-1]:'price{m}'.format(m=3)},inplace=True)\n",
        "ship_id=pd.merge(ship_id,m4, on='shipment_id', how='left')\n",
        "cols=ship_id.columns\n",
        "ship_id.rename(columns={cols[-1]:'price{m}'.format(m=4)},inplace=True)\n",
        "ship_id=pd.merge(ship_id,m5, on='shipment_id', how='left')\n",
        "cols=ship_id.columns\n",
        "ship_id.rename(columns={cols[-1]:'price{m}'.format(m=5)},inplace=True)\n",
        "ship_id=pd.merge(ship_id,m6, on='shipment_id', how='left')\n",
        "cols=ship_id.columns\n",
        "ship_id.rename(columns={cols[-1]:'price{m}'.format(m=6)},inplace=True)\n",
        "ship_id=pd.merge(ship_id,m7, on='shipment_id', how='left')\n",
        "cols=ship_id.columns\n",
        "ship_id.rename(columns={cols[-1]:'price{m}'.format(m=7)},inplace=True)\n",
        "ship_id=pd.merge(ship_id,m8, on='shipment_id', how='left')\n",
        "cols=ship_id.columns\n",
        "ship_id.rename(columns={cols[-1]:'price{m}'.format(m=8)},inplace=True)\n",
        "ship_id.fillna(0, inplace=True)"
      ],
      "execution_count": 43,
      "outputs": []
    },
    {
      "cell_type": "code",
      "metadata": {
        "id": "-Op2mbuB9NEW"
      },
      "source": [
        "del m1,m2,m3,m4,m5,m6,m7,m8"
      ],
      "execution_count": 44,
      "outputs": []
    },
    {
      "cell_type": "code",
      "metadata": {
        "id": "bq8tcvoV7pZo",
        "outputId": "f351f884-8a28-48ad-9d89-a3394157ecc5",
        "colab": {
          "base_uri": "https://localhost:8080/",
          "height": 439
        }
      },
      "source": [
        "ship_id"
      ],
      "execution_count": 45,
      "outputs": [
        {
          "output_type": "execute_result",
          "data": {
            "text/html": [
              "<div>\n",
              "<style scoped>\n",
              "    .dataframe tbody tr th:only-of-type {\n",
              "        vertical-align: middle;\n",
              "    }\n",
              "\n",
              "    .dataframe tbody tr th {\n",
              "        vertical-align: top;\n",
              "    }\n",
              "\n",
              "    .dataframe thead th {\n",
              "        text-align: right;\n",
              "    }\n",
              "</style>\n",
              "<table border=\"1\" class=\"dataframe\">\n",
              "  <thead>\n",
              "    <tr style=\"text-align: right;\">\n",
              "      <th></th>\n",
              "      <th>level_0</th>\n",
              "      <th>index</th>\n",
              "      <th>ship_address_id</th>\n",
              "      <th>shipment_id</th>\n",
              "      <th>price1</th>\n",
              "      <th>price2</th>\n",
              "      <th>price3</th>\n",
              "      <th>price4</th>\n",
              "      <th>price5</th>\n",
              "      <th>price6</th>\n",
              "      <th>price7</th>\n",
              "      <th>price8</th>\n",
              "    </tr>\n",
              "  </thead>\n",
              "  <tbody>\n",
              "    <tr>\n",
              "      <th>0</th>\n",
              "      <td>0.0</td>\n",
              "      <td>0.0</td>\n",
              "      <td>171906</td>\n",
              "      <td>322307</td>\n",
              "      <td>0.000000</td>\n",
              "      <td>2300.910016</td>\n",
              "      <td>0.0</td>\n",
              "      <td>0.0</td>\n",
              "      <td>0.0</td>\n",
              "      <td>0.0</td>\n",
              "      <td>0.0</td>\n",
              "      <td>0.0</td>\n",
              "    </tr>\n",
              "    <tr>\n",
              "      <th>1</th>\n",
              "      <td>1.0</td>\n",
              "      <td>1.0</td>\n",
              "      <td>278832</td>\n",
              "      <td>387023</td>\n",
              "      <td>3603.940004</td>\n",
              "      <td>0.000000</td>\n",
              "      <td>0.0</td>\n",
              "      <td>0.0</td>\n",
              "      <td>0.0</td>\n",
              "      <td>0.0</td>\n",
              "      <td>0.0</td>\n",
              "      <td>0.0</td>\n",
              "    </tr>\n",
              "    <tr>\n",
              "      <th>2</th>\n",
              "      <td>2.0</td>\n",
              "      <td>2.0</td>\n",
              "      <td>468407</td>\n",
              "      <td>388943</td>\n",
              "      <td>0.000000</td>\n",
              "      <td>13223.789965</td>\n",
              "      <td>0.0</td>\n",
              "      <td>0.0</td>\n",
              "      <td>0.0</td>\n",
              "      <td>0.0</td>\n",
              "      <td>0.0</td>\n",
              "      <td>0.0</td>\n",
              "    </tr>\n",
              "    <tr>\n",
              "      <th>3</th>\n",
              "      <td>3.0</td>\n",
              "      <td>3.0</td>\n",
              "      <td>61962</td>\n",
              "      <td>421048</td>\n",
              "      <td>8330.179986</td>\n",
              "      <td>0.000000</td>\n",
              "      <td>0.0</td>\n",
              "      <td>0.0</td>\n",
              "      <td>0.0</td>\n",
              "      <td>0.0</td>\n",
              "      <td>0.0</td>\n",
              "      <td>0.0</td>\n",
              "    </tr>\n",
              "    <tr>\n",
              "      <th>4</th>\n",
              "      <td>4.0</td>\n",
              "      <td>4.0</td>\n",
              "      <td>378297</td>\n",
              "      <td>442659</td>\n",
              "      <td>4724.860004</td>\n",
              "      <td>0.000000</td>\n",
              "      <td>0.0</td>\n",
              "      <td>0.0</td>\n",
              "      <td>0.0</td>\n",
              "      <td>0.0</td>\n",
              "      <td>0.0</td>\n",
              "      <td>0.0</td>\n",
              "    </tr>\n",
              "    <tr>\n",
              "      <th>...</th>\n",
              "      <td>...</td>\n",
              "      <td>...</td>\n",
              "      <td>...</td>\n",
              "      <td>...</td>\n",
              "      <td>...</td>\n",
              "      <td>...</td>\n",
              "      <td>...</td>\n",
              "      <td>...</td>\n",
              "      <td>...</td>\n",
              "      <td>...</td>\n",
              "      <td>...</td>\n",
              "      <td>...</td>\n",
              "    </tr>\n",
              "    <tr>\n",
              "      <th>2260681</th>\n",
              "      <td>0.0</td>\n",
              "      <td>0.0</td>\n",
              "      <td>12102714</td>\n",
              "      <td>9916517</td>\n",
              "      <td>0.000000</td>\n",
              "      <td>0.000000</td>\n",
              "      <td>0.0</td>\n",
              "      <td>0.0</td>\n",
              "      <td>0.0</td>\n",
              "      <td>0.0</td>\n",
              "      <td>0.0</td>\n",
              "      <td>0.0</td>\n",
              "    </tr>\n",
              "    <tr>\n",
              "      <th>2260682</th>\n",
              "      <td>0.0</td>\n",
              "      <td>0.0</td>\n",
              "      <td>12540588</td>\n",
              "      <td>9916519</td>\n",
              "      <td>0.000000</td>\n",
              "      <td>0.000000</td>\n",
              "      <td>0.0</td>\n",
              "      <td>0.0</td>\n",
              "      <td>0.0</td>\n",
              "      <td>0.0</td>\n",
              "      <td>0.0</td>\n",
              "      <td>0.0</td>\n",
              "    </tr>\n",
              "    <tr>\n",
              "      <th>2260683</th>\n",
              "      <td>0.0</td>\n",
              "      <td>0.0</td>\n",
              "      <td>12540591</td>\n",
              "      <td>9916532</td>\n",
              "      <td>0.000000</td>\n",
              "      <td>0.000000</td>\n",
              "      <td>0.0</td>\n",
              "      <td>0.0</td>\n",
              "      <td>0.0</td>\n",
              "      <td>0.0</td>\n",
              "      <td>0.0</td>\n",
              "      <td>0.0</td>\n",
              "    </tr>\n",
              "    <tr>\n",
              "      <th>2260684</th>\n",
              "      <td>0.0</td>\n",
              "      <td>0.0</td>\n",
              "      <td>12540602</td>\n",
              "      <td>9916540</td>\n",
              "      <td>0.000000</td>\n",
              "      <td>0.000000</td>\n",
              "      <td>0.0</td>\n",
              "      <td>0.0</td>\n",
              "      <td>0.0</td>\n",
              "      <td>0.0</td>\n",
              "      <td>0.0</td>\n",
              "      <td>0.0</td>\n",
              "    </tr>\n",
              "    <tr>\n",
              "      <th>2260685</th>\n",
              "      <td>0.0</td>\n",
              "      <td>0.0</td>\n",
              "      <td>12519984</td>\n",
              "      <td>9916560</td>\n",
              "      <td>0.000000</td>\n",
              "      <td>0.000000</td>\n",
              "      <td>0.0</td>\n",
              "      <td>0.0</td>\n",
              "      <td>0.0</td>\n",
              "      <td>0.0</td>\n",
              "      <td>0.0</td>\n",
              "      <td>0.0</td>\n",
              "    </tr>\n",
              "  </tbody>\n",
              "</table>\n",
              "<p>2260686 rows × 12 columns</p>\n",
              "</div>"
            ],
            "text/plain": [
              "         level_0  index  ship_address_id  ...  price6  price7  price8\n",
              "0            0.0    0.0           171906  ...     0.0     0.0     0.0\n",
              "1            1.0    1.0           278832  ...     0.0     0.0     0.0\n",
              "2            2.0    2.0           468407  ...     0.0     0.0     0.0\n",
              "3            3.0    3.0            61962  ...     0.0     0.0     0.0\n",
              "4            4.0    4.0           378297  ...     0.0     0.0     0.0\n",
              "...          ...    ...              ...  ...     ...     ...     ...\n",
              "2260681      0.0    0.0         12102714  ...     0.0     0.0     0.0\n",
              "2260682      0.0    0.0         12540588  ...     0.0     0.0     0.0\n",
              "2260683      0.0    0.0         12540591  ...     0.0     0.0     0.0\n",
              "2260684      0.0    0.0         12540602  ...     0.0     0.0     0.0\n",
              "2260685      0.0    0.0         12519984  ...     0.0     0.0     0.0\n",
              "\n",
              "[2260686 rows x 12 columns]"
            ]
          },
          "metadata": {
            "tags": []
          },
          "execution_count": 45
        }
      ]
    },
    {
      "cell_type": "code",
      "metadata": {
        "id": "g2jwIzN33-aK"
      },
      "source": [
        "ship_id.to_csv('ship_id_with_month.csv')"
      ],
      "execution_count": 42,
      "outputs": []
    },
    {
      "cell_type": "code",
      "metadata": {
        "id": "E7Q7Jb9tAcot"
      },
      "source": [
        "ship_id=pd.read_csv('/content/drive/My Drive/ship_id_with_month.csv')"
      ],
      "execution_count": 9,
      "outputs": []
    },
    {
      "cell_type": "code",
      "metadata": {
        "id": "FwihonCY3v8c"
      },
      "source": [
        "cols=ship_id.columns\n",
        "price_month=ship_id.groupby('ship_address_id')[np.array(cols)[-8:]].sum()\n",
        "price_month['id']=price_month.index"
      ],
      "execution_count": 10,
      "outputs": []
    },
    {
      "cell_type": "code",
      "metadata": {
        "id": "GAmbwi61-oIK"
      },
      "source": [
        "del ship_id"
      ],
      "execution_count": 11,
      "outputs": []
    },
    {
      "cell_type": "code",
      "metadata": {
        "id": "hxSX_sew_xqm"
      },
      "source": [
        "phone_id=pd.read_csv('/content/drive/My Drive/гуд муд/misc/addresses.csv')\n",
        "us_id=pd.merge(phone_id,price_month, on='id', how='left')"
      ],
      "execution_count": 13,
      "outputs": []
    },
    {
      "cell_type": "code",
      "metadata": {
        "id": "GHcDQvjzBube"
      },
      "source": [
        "us_id.fillna(0,inplace=True)\n",
        "us_id.drop('id', axis=1, inplace=True)"
      ],
      "execution_count": 17,
      "outputs": []
    },
    {
      "cell_type": "code",
      "metadata": {
        "id": "Og73mqQICObN"
      },
      "source": [
        "with open('/content/drive/My Drive/train_try.csv', 'w') as f:\n",
        "   us_id.to_csv(f)\n",
        "#us_id.to_csv('/content/drive/My Drive/гуд муд/train_try.csv')\n"
      ],
      "execution_count": 23,
      "outputs": []
    },
    {
      "cell_type": "code",
      "metadata": {
        "id": "Mf5bdJvBD0iw",
        "outputId": "868e53fc-8446-4ace-b885-8ec4721c95b2",
        "colab": {
          "base_uri": "https://localhost:8080/",
          "height": 419
        }
      },
      "source": [
        "file1=pd.read_csv('/content/drive/My Drive/train_try.csv')\n",
        "file1"
      ],
      "execution_count": 24,
      "outputs": [
        {
          "output_type": "execute_result",
          "data": {
            "text/html": [
              "<div>\n",
              "<style scoped>\n",
              "    .dataframe tbody tr th:only-of-type {\n",
              "        vertical-align: middle;\n",
              "    }\n",
              "\n",
              "    .dataframe tbody tr th {\n",
              "        vertical-align: top;\n",
              "    }\n",
              "\n",
              "    .dataframe thead th {\n",
              "        text-align: right;\n",
              "    }\n",
              "</style>\n",
              "<table border=\"1\" class=\"dataframe\">\n",
              "  <thead>\n",
              "    <tr style=\"text-align: right;\">\n",
              "      <th></th>\n",
              "      <th>Unnamed: 0</th>\n",
              "      <th>phone_id</th>\n",
              "      <th>price1</th>\n",
              "      <th>price2</th>\n",
              "      <th>price3</th>\n",
              "      <th>price4</th>\n",
              "      <th>price5</th>\n",
              "      <th>price6</th>\n",
              "      <th>price7</th>\n",
              "      <th>price8</th>\n",
              "    </tr>\n",
              "  </thead>\n",
              "  <tbody>\n",
              "    <tr>\n",
              "      <th>0</th>\n",
              "      <td>0</td>\n",
              "      <td>1</td>\n",
              "      <td>0.000000</td>\n",
              "      <td>0.000000</td>\n",
              "      <td>0.000000</td>\n",
              "      <td>0.0</td>\n",
              "      <td>0.0</td>\n",
              "      <td>0.0</td>\n",
              "      <td>0.0</td>\n",
              "      <td>0.000000</td>\n",
              "    </tr>\n",
              "    <tr>\n",
              "      <th>1</th>\n",
              "      <td>1</td>\n",
              "      <td>2</td>\n",
              "      <td>3827.990007</td>\n",
              "      <td>0.000000</td>\n",
              "      <td>0.000000</td>\n",
              "      <td>0.0</td>\n",
              "      <td>0.0</td>\n",
              "      <td>0.0</td>\n",
              "      <td>0.0</td>\n",
              "      <td>0.000000</td>\n",
              "    </tr>\n",
              "    <tr>\n",
              "      <th>2</th>\n",
              "      <td>2</td>\n",
              "      <td>2</td>\n",
              "      <td>2902.410011</td>\n",
              "      <td>0.000000</td>\n",
              "      <td>0.000000</td>\n",
              "      <td>0.0</td>\n",
              "      <td>0.0</td>\n",
              "      <td>0.0</td>\n",
              "      <td>0.0</td>\n",
              "      <td>0.000000</td>\n",
              "    </tr>\n",
              "    <tr>\n",
              "      <th>3</th>\n",
              "      <td>3</td>\n",
              "      <td>2</td>\n",
              "      <td>0.000000</td>\n",
              "      <td>2622.290012</td>\n",
              "      <td>0.000000</td>\n",
              "      <td>0.0</td>\n",
              "      <td>0.0</td>\n",
              "      <td>0.0</td>\n",
              "      <td>0.0</td>\n",
              "      <td>0.000000</td>\n",
              "    </tr>\n",
              "    <tr>\n",
              "      <th>4</th>\n",
              "      <td>4</td>\n",
              "      <td>2</td>\n",
              "      <td>0.000000</td>\n",
              "      <td>0.000000</td>\n",
              "      <td>4716.760031</td>\n",
              "      <td>0.0</td>\n",
              "      <td>0.0</td>\n",
              "      <td>0.0</td>\n",
              "      <td>0.0</td>\n",
              "      <td>0.000000</td>\n",
              "    </tr>\n",
              "    <tr>\n",
              "      <th>...</th>\n",
              "      <td>...</td>\n",
              "      <td>...</td>\n",
              "      <td>...</td>\n",
              "      <td>...</td>\n",
              "      <td>...</td>\n",
              "      <td>...</td>\n",
              "      <td>...</td>\n",
              "      <td>...</td>\n",
              "      <td>...</td>\n",
              "      <td>...</td>\n",
              "    </tr>\n",
              "    <tr>\n",
              "      <th>2766719</th>\n",
              "      <td>2766719</td>\n",
              "      <td>719370</td>\n",
              "      <td>0.000000</td>\n",
              "      <td>0.000000</td>\n",
              "      <td>0.000000</td>\n",
              "      <td>0.0</td>\n",
              "      <td>0.0</td>\n",
              "      <td>0.0</td>\n",
              "      <td>0.0</td>\n",
              "      <td>2417.999990</td>\n",
              "    </tr>\n",
              "    <tr>\n",
              "      <th>2766720</th>\n",
              "      <td>2766720</td>\n",
              "      <td>719371</td>\n",
              "      <td>0.000000</td>\n",
              "      <td>0.000000</td>\n",
              "      <td>0.000000</td>\n",
              "      <td>0.0</td>\n",
              "      <td>0.0</td>\n",
              "      <td>0.0</td>\n",
              "      <td>0.0</td>\n",
              "      <td>0.000000</td>\n",
              "    </tr>\n",
              "    <tr>\n",
              "      <th>2766721</th>\n",
              "      <td>2766721</td>\n",
              "      <td>719372</td>\n",
              "      <td>0.000000</td>\n",
              "      <td>0.000000</td>\n",
              "      <td>0.000000</td>\n",
              "      <td>0.0</td>\n",
              "      <td>0.0</td>\n",
              "      <td>0.0</td>\n",
              "      <td>0.0</td>\n",
              "      <td>0.000000</td>\n",
              "    </tr>\n",
              "    <tr>\n",
              "      <th>2766722</th>\n",
              "      <td>2766722</td>\n",
              "      <td>719373</td>\n",
              "      <td>0.000000</td>\n",
              "      <td>0.000000</td>\n",
              "      <td>0.000000</td>\n",
              "      <td>0.0</td>\n",
              "      <td>0.0</td>\n",
              "      <td>0.0</td>\n",
              "      <td>0.0</td>\n",
              "      <td>3175.430004</td>\n",
              "    </tr>\n",
              "    <tr>\n",
              "      <th>2766723</th>\n",
              "      <td>2766723</td>\n",
              "      <td>719374</td>\n",
              "      <td>0.000000</td>\n",
              "      <td>0.000000</td>\n",
              "      <td>0.000000</td>\n",
              "      <td>0.0</td>\n",
              "      <td>0.0</td>\n",
              "      <td>0.0</td>\n",
              "      <td>0.0</td>\n",
              "      <td>1448.930000</td>\n",
              "    </tr>\n",
              "  </tbody>\n",
              "</table>\n",
              "<p>2766724 rows × 10 columns</p>\n",
              "</div>"
            ],
            "text/plain": [
              "         Unnamed: 0  phone_id       price1  ...  price6  price7       price8\n",
              "0                 0         1     0.000000  ...     0.0     0.0     0.000000\n",
              "1                 1         2  3827.990007  ...     0.0     0.0     0.000000\n",
              "2                 2         2  2902.410011  ...     0.0     0.0     0.000000\n",
              "3                 3         2     0.000000  ...     0.0     0.0     0.000000\n",
              "4                 4         2     0.000000  ...     0.0     0.0     0.000000\n",
              "...             ...       ...          ...  ...     ...     ...          ...\n",
              "2766719     2766719    719370     0.000000  ...     0.0     0.0  2417.999990\n",
              "2766720     2766720    719371     0.000000  ...     0.0     0.0     0.000000\n",
              "2766721     2766721    719372     0.000000  ...     0.0     0.0     0.000000\n",
              "2766722     2766722    719373     0.000000  ...     0.0     0.0  3175.430004\n",
              "2766723     2766723    719374     0.000000  ...     0.0     0.0  1448.930000\n",
              "\n",
              "[2766724 rows x 10 columns]"
            ]
          },
          "metadata": {
            "tags": []
          },
          "execution_count": 24
        }
      ]
    }
  ]
}