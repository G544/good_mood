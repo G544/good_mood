{
  "nbformat": 4,
  "nbformat_minor": 0,
  "metadata": {
    "colab": {
      "name": "Untitled7.ipynb",
      "provenance": [],
      "mount_file_id": "1HS0V4r7RRdjAQa1QI1GaOQ8_ziJHWULt",
      "authorship_tag": "ABX9TyMt9YMfa6vSQgp89O25izF2",
      "include_colab_link": true
    },
    "kernelspec": {
      "name": "python3",
      "display_name": "Python 3"
    }
  },
  "cells": [
    {
      "cell_type": "markdown",
      "metadata": {
        "id": "view-in-github",
        "colab_type": "text"
      },
      "source": [
        "<a href=\"https://colab.research.google.com/github/G544/good_mood/blob/main/ver1.ipynb\" target=\"_parent\"><img src=\"https://colab.research.google.com/assets/colab-badge.svg\" alt=\"Open In Colab\"/></a>"
      ]
    },
    {
      "cell_type": "code",
      "metadata": {
        "id": "HVuZtMyIRfc9"
      },
      "source": [
        "import matplotlib.pyplot as plt\n",
        "import pandas as pd\n",
        "import numpy as np\n",
        "%matplotlib inline\n",
        "import seaborn as sns\n",
        "import datetime "
      ],
      "execution_count": 1,
      "outputs": []
    },
    {
      "cell_type": "code",
      "metadata": {
        "id": "kg7KhDLhRltZ"
      },
      "source": [
        "month='01'\n",
        "day_list=['01','11','21','31']\n",
        "#РАБОТАЕТ НЕ ТРОГАй\n",
        "def li_read(month, day): # считывает\n",
        "    print('li_'+str(month)+'_'+str(day))\n",
        "    globals()['li_'+str(month)+'_'+str(day)]=pd.read_csv('/content/drive/My Drive/гуд муд/line_items{month}/line_items_2020-{month}-{day}.csv'.\n",
        "                      format(month=month, day=day))\n",
        "\n",
        "\n",
        "\n",
        "def gp_price(month,day): # считает цену\n",
        "  gp= globals()['li_'+str(month)+'_'+str(day)].groupby('shipment_id')[['price']].sum()\n",
        "  pr_shp=pd.DataFrame()\n",
        "  pr_shp['shipment_id']=gp.index\n",
        "  pr_shp['price']=np.array(gp['price'])\n",
        "  return pr_shp\n",
        "  \n",
        "\n",
        "def merge_for_day(month, day,val1,val2):\n",
        "  new_df=pd.merge(val1,val2,on='shipment_id', how='outer')\n",
        "  cols=np.array(new_df.columns)\n",
        "  new_df.rename(columns={cols[-1]:'price{d}'.format(d=day)},inplace=True)\n",
        "  return new_df\n",
        "  \n",
        "  \n"
      ],
      "execution_count": 61,
      "outputs": []
    },
    {
      "cell_type": "code",
      "metadata": {
        "id": "z_z1zNquaGMU"
      },
      "source": [
        "month='01'\n",
        "day_list=['11','21','31']\n",
        "day0='01'\n",
        "# !!!! РАБОТАЕТ НЕ ТРОГАй. УБЬЮ\n",
        "def price_for_month(month, day_list, first_day): # В day_list не указывать первый день\n",
        "  day0=first_day\n",
        "  li_read(month, day0)\n",
        "  val=gp_price(month,day0)\n",
        "\n",
        "  for day in day_list:\n",
        "    li_read(month, day)\n",
        "    val_tmp=gp_price(month,day)\n",
        "    tmp_df=merge_for_day(month, day,val,val_tmp)\n",
        "    val=tmp_df\n",
        "\n",
        "\n",
        "\n",
        "  val.fillna(0, inplace=True)\n",
        "  cols = np.array(val.columns)[1:val.shape[1]]\n",
        "  table_for_month = val.eval(\"price = {}\".format(\"+\".join(cols))).drop(columns=cols)\n",
        "  return table_for_month "
      ],
      "execution_count": 117,
      "outputs": []
    },
    {
      "cell_type": "code",
      "metadata": {
        "id": "PyFY7Pgfb71k",
        "outputId": "fff8e1dc-9e19-47d5-ade4-196768d2ab6b",
        "colab": {
          "base_uri": "https://localhost:8080/",
          "height": 487
        }
      },
      "source": [
        "# Пример вызова \n",
        "price_for_month(month, day_list, day0)"
      ],
      "execution_count": 118,
      "outputs": [
        {
          "output_type": "stream",
          "text": [
            "li_01_01\n",
            "li_01_11\n",
            "li_01_21\n",
            "li_01_31\n"
          ],
          "name": "stdout"
        },
        {
          "output_type": "execute_result",
          "data": {
            "text/html": [
              "<div>\n",
              "<style scoped>\n",
              "    .dataframe tbody tr th:only-of-type {\n",
              "        vertical-align: middle;\n",
              "    }\n",
              "\n",
              "    .dataframe tbody tr th {\n",
              "        vertical-align: top;\n",
              "    }\n",
              "\n",
              "    .dataframe thead th {\n",
              "        text-align: right;\n",
              "    }\n",
              "</style>\n",
              "<table border=\"1\" class=\"dataframe\">\n",
              "  <thead>\n",
              "    <tr style=\"text-align: right;\">\n",
              "      <th></th>\n",
              "      <th>shipment_id</th>\n",
              "      <th>price</th>\n",
              "    </tr>\n",
              "  </thead>\n",
              "  <tbody>\n",
              "    <tr>\n",
              "      <th>0</th>\n",
              "      <td>387023</td>\n",
              "      <td>3603.940004</td>\n",
              "    </tr>\n",
              "    <tr>\n",
              "      <th>1</th>\n",
              "      <td>442659</td>\n",
              "      <td>4724.860004</td>\n",
              "    </tr>\n",
              "    <tr>\n",
              "      <th>2</th>\n",
              "      <td>571826</td>\n",
              "      <td>5364.870020</td>\n",
              "    </tr>\n",
              "    <tr>\n",
              "      <th>3</th>\n",
              "      <td>616984</td>\n",
              "      <td>5959.800014</td>\n",
              "    </tr>\n",
              "    <tr>\n",
              "      <th>4</th>\n",
              "      <td>695703</td>\n",
              "      <td>6960.119991</td>\n",
              "    </tr>\n",
              "    <tr>\n",
              "      <th>...</th>\n",
              "      <td>...</td>\n",
              "      <td>...</td>\n",
              "    </tr>\n",
              "    <tr>\n",
              "      <th>84062</th>\n",
              "      <td>2350243</td>\n",
              "      <td>6814.740026</td>\n",
              "    </tr>\n",
              "    <tr>\n",
              "      <th>84063</th>\n",
              "      <td>2350247</td>\n",
              "      <td>4599.449989</td>\n",
              "    </tr>\n",
              "    <tr>\n",
              "      <th>84064</th>\n",
              "      <td>2350288</td>\n",
              "      <td>795.460003</td>\n",
              "    </tr>\n",
              "    <tr>\n",
              "      <th>84065</th>\n",
              "      <td>2350326</td>\n",
              "      <td>2742.389961</td>\n",
              "    </tr>\n",
              "    <tr>\n",
              "      <th>84066</th>\n",
              "      <td>2350349</td>\n",
              "      <td>1758.450001</td>\n",
              "    </tr>\n",
              "  </tbody>\n",
              "</table>\n",
              "<p>84067 rows × 2 columns</p>\n",
              "</div>"
            ],
            "text/plain": [
              "       shipment_id        price\n",
              "0           387023  3603.940004\n",
              "1           442659  4724.860004\n",
              "2           571826  5364.870020\n",
              "3           616984  5959.800014\n",
              "4           695703  6960.119991\n",
              "...            ...          ...\n",
              "84062      2350243  6814.740026\n",
              "84063      2350247  4599.449989\n",
              "84064      2350288   795.460003\n",
              "84065      2350326  2742.389961\n",
              "84066      2350349  1758.450001\n",
              "\n",
              "[84067 rows x 2 columns]"
            ]
          },
          "metadata": {
            "tags": []
          },
          "execution_count": 118
        }
      ]
    },
    {
      "cell_type": "code",
      "metadata": {
        "id": "9dfpqtPFtY6f"
      },
      "source": [
        ""
      ],
      "execution_count": null,
      "outputs": []
    }
  ]
}